{
 "cells": [
  {
   "cell_type": "code",
   "execution_count": 3,
   "id": "07aa3ba7",
   "metadata": {},
   "outputs": [],
   "source": [
    "import tensorflow as tf\n",
    "from tensorflow.keras import layers\n",
    "import numpy as np\n",
    "import pandas as pd\n",
    "from tqdm import tqdm\n",
    "import string\n",
    "import re\n",
    "import random"
   ]
  },
  {
   "cell_type": "code",
   "execution_count": 4,
   "id": "b74e988f",
   "metadata": {},
   "outputs": [],
   "source": [
    "text_file_path = 'rus.txt'\n",
    "with open(text_file_path, encoding='utf-8') as t:\n",
    "    text = t.read()"
   ]
  },
  {
   "cell_type": "code",
   "execution_count": 5,
   "id": "fbbbaceb",
   "metadata": {},
   "outputs": [],
   "source": [
    "def preprocess_text(text):\n",
    "    text=re.sub(\"'\",'',text)\n",
    "    text=''.join(char for char in text if char not in string.punctuation)\n",
    "    text=re.sub(\"[0-9]\",'',text)\n",
    "    return text.lower()"
   ]
  },
  {
   "cell_type": "code",
   "execution_count": 6,
   "id": "b85114ac",
   "metadata": {},
   "outputs": [],
   "source": [
    "def return_sentences(text,num_lines=20000):\n",
    "    text_lines=text.split('\\n')\n",
    "    english_texts,russian_texts=[],[]\n",
    "    english_words,russian_words=set(),set()\n",
    "    for text_line in tqdm(range(min(len(text_lines),num_lines))):\n",
    "        preprocessed_text_line=preprocess_text(text_lines[text_line])\n",
    "        tab_split_text=preprocessed_text_line.split('\\t')\n",
    "        english_text,russian_text=tab_split_text[0],'<sos> '+tab_split_text[1]+' <eos>'\n",
    "        english_texts.append(english_text)\n",
    "        russian_texts.append(russian_text)\n",
    "        for english_word in english_text.split():\n",
    "            if english_word not in english_words:\n",
    "                english_words.add(english_word)\n",
    "        for russian_word in russian_text.split():\n",
    "            if russian_word not in russian_words:\n",
    "                russian_words.add(russian_word)\n",
    "    english_words=sorted(list(english_words))\n",
    "    russian_words=sorted(list(russian_words))\n",
    "    return english_texts,russian_texts,english_words,russian_words"
   ]
  },
  {
   "cell_type": "code",
   "execution_count": 7,
   "id": "6ecfebfc",
   "metadata": {},
   "outputs": [
    {
     "name": "stderr",
     "output_type": "stream",
     "text": [
      "100%|██████████| 20000/20000 [00:00<00:00, 42458.08it/s]\n"
     ]
    }
   ],
   "source": [
    "english_texts,russian_texts,english_words,russian_words=return_sentences(text)"
   ]
  },
  {
   "cell_type": "code",
   "execution_count": 8,
   "id": "6b6542ac",
   "metadata": {},
   "outputs": [],
   "source": [
    "text_map={'English sentences':english_texts,'Russian sentences':russian_texts}"
   ]
  },
  {
   "cell_type": "code",
   "execution_count": 9,
   "id": "4932dccc",
   "metadata": {},
   "outputs": [],
   "source": [
    "def dataframe_text(text_map):\n",
    "    text_df=pd.DataFrame(text_map,columns=text_map.keys())\n",
    "    for key in text_map.keys():\n",
    "        text_df[key+' length']=text_df[key].apply(lambda text:len(text.split()))\n",
    "    text_df=text_df.sample(frac=1)\n",
    "    return text_df"
   ]
  },
  {
   "cell_type": "code",
   "execution_count": 10,
   "id": "dc97f65f",
   "metadata": {},
   "outputs": [
    {
     "data": {
      "text/html": [
       "<div>\n",
       "<style scoped>\n",
       "    .dataframe tbody tr th:only-of-type {\n",
       "        vertical-align: middle;\n",
       "    }\n",
       "\n",
       "    .dataframe tbody tr th {\n",
       "        vertical-align: top;\n",
       "    }\n",
       "\n",
       "    .dataframe thead th {\n",
       "        text-align: right;\n",
       "    }\n",
       "</style>\n",
       "<table border=\"1\" class=\"dataframe\">\n",
       "  <thead>\n",
       "    <tr style=\"text-align: right;\">\n",
       "      <th></th>\n",
       "      <th>English sentences</th>\n",
       "      <th>Russian sentences</th>\n",
       "      <th>English sentences length</th>\n",
       "      <th>Russian sentences length</th>\n",
       "    </tr>\n",
       "  </thead>\n",
       "  <tbody>\n",
       "    <tr>\n",
       "      <th>15839</th>\n",
       "      <td>just wait here</td>\n",
       "      <td>&lt;sos&gt; просто подожди здесь &lt;eos&gt;</td>\n",
       "      <td>3</td>\n",
       "      <td>5</td>\n",
       "    </tr>\n",
       "    <tr>\n",
       "      <th>5784</th>\n",
       "      <td>give it back</td>\n",
       "      <td>&lt;sos&gt; верни это &lt;eos&gt;</td>\n",
       "      <td>3</td>\n",
       "      <td>4</td>\n",
       "    </tr>\n",
       "    <tr>\n",
       "      <th>19659</th>\n",
       "      <td>he made a robot</td>\n",
       "      <td>&lt;sos&gt; он создал робота &lt;eos&gt;</td>\n",
       "      <td>4</td>\n",
       "      <td>5</td>\n",
       "    </tr>\n",
       "    <tr>\n",
       "      <th>8568</th>\n",
       "      <td>are you awake</td>\n",
       "      <td>&lt;sos&gt; ты не спишь &lt;eos&gt;</td>\n",
       "      <td>3</td>\n",
       "      <td>5</td>\n",
       "    </tr>\n",
       "    <tr>\n",
       "      <th>18775</th>\n",
       "      <td>call the doctor</td>\n",
       "      <td>&lt;sos&gt; вызови врача &lt;eos&gt;</td>\n",
       "      <td>3</td>\n",
       "      <td>4</td>\n",
       "    </tr>\n",
       "  </tbody>\n",
       "</table>\n",
       "</div>"
      ],
      "text/plain": [
       "      English sentences                 Russian sentences  \\\n",
       "15839    just wait here  <sos> просто подожди здесь <eos>   \n",
       "5784       give it back             <sos> верни это <eos>   \n",
       "19659   he made a robot      <sos> он создал робота <eos>   \n",
       "8568      are you awake           <sos> ты не спишь <eos>   \n",
       "18775   call the doctor          <sos> вызови врача <eos>   \n",
       "\n",
       "       English sentences length  Russian sentences length  \n",
       "15839                         3                         5  \n",
       "5784                          3                         4  \n",
       "19659                         4                         5  \n",
       "8568                          3                         5  \n",
       "18775                         3                         4  "
      ]
     },
     "execution_count": 10,
     "metadata": {},
     "output_type": "execute_result"
    }
   ],
   "source": [
    "text_df=dataframe_text(text_map)\n",
    "text_df.head()"
   ]
  },
  {
   "cell_type": "code",
   "execution_count": 11,
   "id": "46f93f33",
   "metadata": {},
   "outputs": [],
   "source": [
    "encoder_seq_length=max(text_df['English sentences length'])\n",
    "decoder_seq_length=max(text_df['Russian sentences length'])"
   ]
  },
  {
   "cell_type": "code",
   "execution_count": 12,
   "id": "4d80c1c7",
   "metadata": {},
   "outputs": [],
   "source": [
    "num_encoder_tokens=len(english_words)\n",
    "num_decoder_tokens=len(russian_words)+1"
   ]
  },
  {
   "cell_type": "code",
   "execution_count": 13,
   "id": "b04654fd",
   "metadata": {},
   "outputs": [],
   "source": [
    "english_lookup_table={word:num for num,word in enumerate(english_words)}\n",
    "russian_lookup_table={word:num+1 for num,word in enumerate(russian_words)}"
   ]
  },
  {
   "cell_type": "code",
   "execution_count": 14,
   "id": "936e72cb",
   "metadata": {},
   "outputs": [],
   "source": [
    "english_token_lookup_table={num:word for word,num in english_lookup_table.items()}\n",
    "russian_token_lookup_table={num:word for word,num in russian_lookup_table.items()}"
   ]
  },
  {
   "cell_type": "code",
   "execution_count": 15,
   "id": "52f9f738",
   "metadata": {},
   "outputs": [],
   "source": [
    "def generate_batch(X,y,batch_size=32):\n",
    "    while True:\n",
    "        for i in range(0,len(X),batch_size):\n",
    "            encoder_input_vector=np.zeros((batch_size,encoder_seq_length),dtype=np.float32)\n",
    "            decoder_input_vector=np.zeros((batch_size,decoder_seq_length),dtype=np.float32)\n",
    "            decoder_target_vector=np.zeros((batch_size,decoder_seq_length,num_decoder_tokens),dtype=np.float32)\n",
    "            for j,(encoder_text,decoder_text) in enumerate(zip(X[i:i+batch_size],y[i:i+batch_size])):\n",
    "                for time_step,encoder_word in enumerate(encoder_text.split()):\n",
    "                    encoder_input_vector[j,time_step]=english_lookup_table[encoder_word]\n",
    "                for time_step,decoder_word in enumerate(decoder_text.split()):\n",
    "                    if time_step<len(decoder_text.split())-1:\n",
    "                        decoder_input_vector[j,time_step]=russian_lookup_table[decoder_word]\n",
    "                    if time_step>0:\n",
    "                                              decoder_target_vector[j,time_step-1,russian_lookup_table[decoder_word]]=1\n",
    "            yield ([encoder_input_vector,decoder_input_vector],decoder_target_vector)"
   ]
  },
  {
   "cell_type": "code",
   "execution_count": 16,
   "id": "28e7fbba",
   "metadata": {},
   "outputs": [],
   "source": [
    "X=list(text_df['English sentences'])\n",
    "y=list(text_df['Russian sentences'])"
   ]
  },
  {
   "cell_type": "code",
   "execution_count": 17,
   "id": "fedd5dff",
   "metadata": {},
   "outputs": [],
   "source": [
    "X_train=X[:len(X)*80//100]\n",
    "y_train=y[:len(y)*80//100]\n",
    "X_valid=X[80*len(X)//100:]\n",
    "y_valid=y[80*len(y)//100:]"
   ]
  },
  {
   "cell_type": "code",
   "execution_count": 18,
   "id": "f6b7cb6e",
   "metadata": {},
   "outputs": [],
   "source": [
    "latent_dim=512\n",
    "embedding_dim=256\n",
    "batch_size=32"
   ]
  },
  {
   "cell_type": "code",
   "execution_count": 19,
   "id": "d123e85e",
   "metadata": {},
   "outputs": [],
   "source": [
    "encoder_inputs=layers.Input(shape=(None,))\n",
    "encoder_embedding_layer=layers.Embedding(\n",
    "    input_dim=num_encoder_tokens,output_dim=embedding_dim,\n",
    "    mask_zero=True\n",
    ")\n",
    "encoder_embeddings=encoder_embedding_layer(encoder_inputs)\n",
    "encoder_lstm=layers.Bidirectional(layers.LSTM(units=latent_dim,return_state=True))\n",
    "_,encoder_hidden_state1,encoder_cell_state1,encoder_hidden_state2,encoder_cell_state2=encoder_lstm(encoder_embeddings)\n",
    "encoder_state=[encoder_hidden_state1+encoder_hidden_state2,encoder_cell_state1+encoder_cell_state2]\n",
    "\n"
   ]
  },
  {
   "cell_type": "code",
   "execution_count": 20,
   "id": "c70cd14d",
   "metadata": {},
   "outputs": [],
   "source": [
    "decoder_inputs=layers.Input(shape=(None,))\n",
    "decoder_embedding_layer=layers.Embedding(\n",
    "    input_dim=num_decoder_tokens,output_dim=embedding_dim,\n",
    "    mask_zero=True\n",
    ")\n",
    "decoder_embeddings=decoder_embedding_layer(decoder_inputs)\n",
    "decoder_lstm=layers.LSTM(units=latent_dim,return_sequences=True,return_state=True)\n",
    "decoder_output,_,_=decoder_lstm(decoder_embeddings,initial_state=encoder_state)\n",
    "output_layer=layers.Dense(units=num_decoder_tokens)\n",
    "decoder_output=output_layer(decoder_output)\n",
    "output_probs=tf.nn.softmax(decoder_output)"
   ]
  },
  {
   "cell_type": "code",
   "execution_count": 21,
   "id": "f3c525c3",
   "metadata": {},
   "outputs": [],
   "source": [
    "model=tf.keras.models.Model(inputs=(encoder_inputs,decoder_inputs),outputs=output_probs)"
   ]
  },
  {
   "cell_type": "code",
   "execution_count": 22,
   "id": "fe06ce86",
   "metadata": {},
   "outputs": [
    {
     "name": "stdout",
     "output_type": "stream",
     "text": [
      "Model: \"model\"\n",
      "__________________________________________________________________________________________________\n",
      " Layer (type)                   Output Shape         Param #     Connected to                     \n",
      "==================================================================================================\n",
      " input_1 (InputLayer)           [(None, None)]       0           []                               \n",
      "                                                                                                  \n",
      " embedding (Embedding)          (None, None, 256)    702976      ['input_1[0][0]']                \n",
      "                                                                                                  \n",
      " input_2 (InputLayer)           [(None, None)]       0           []                               \n",
      "                                                                                                  \n",
      " bidirectional (Bidirectional)  [(None, 1024),       3149824     ['embedding[0][0]']              \n",
      "                                 (None, 512),                                                     \n",
      "                                 (None, 512),                                                     \n",
      "                                 (None, 512),                                                     \n",
      "                                 (None, 512)]                                                     \n",
      "                                                                                                  \n",
      " embedding_1 (Embedding)        (None, None, 256)    1912320     ['input_2[0][0]']                \n",
      "                                                                                                  \n",
      " tf.__operators__.add (TFOpLamb  (None, 512)         0           ['bidirectional[0][1]',          \n",
      " da)                                                              'bidirectional[0][3]']          \n",
      "                                                                                                  \n",
      " tf.__operators__.add_1 (TFOpLa  (None, 512)         0           ['bidirectional[0][2]',          \n",
      " mbda)                                                            'bidirectional[0][4]']          \n",
      "                                                                                                  \n",
      " lstm_1 (LSTM)                  [(None, None, 512),  1574912     ['embedding_1[0][0]',            \n",
      "                                 (None, 512),                     'tf.__operators__.add[0][0]',   \n",
      "                                 (None, 512)]                     'tf.__operators__.add_1[0][0]'] \n",
      "                                                                                                  \n",
      " dense (Dense)                  (None, None, 7470)   3832110     ['lstm_1[0][0]']                 \n",
      "                                                                                                  \n",
      " tf.nn.softmax (TFOpLambda)     (None, None, 7470)   0           ['dense[0][0]']                  \n",
      "                                                                                                  \n",
      "==================================================================================================\n",
      "Total params: 11,172,142\n",
      "Trainable params: 11,172,142\n",
      "Non-trainable params: 0\n",
      "__________________________________________________________________________________________________\n"
     ]
    }
   ],
   "source": [
    "model.summary()"
   ]
  },
  {
   "cell_type": "code",
   "execution_count": 23,
   "id": "225223a3",
   "metadata": {},
   "outputs": [],
   "source": [
    "model.compile(optimizer='adam',loss='categorical_crossentropy')"
   ]
  },
  {
   "cell_type": "code",
   "execution_count": 24,
   "id": "385e1452",
   "metadata": {},
   "outputs": [
    {
     "name": "stdout",
     "output_type": "stream",
     "text": [
      "500/500 [==============================] - 288s 551ms/step - loss: 1.7761 - val_loss: 1.7199\n"
     ]
    }
   ],
   "source": [
    "history=model.fit(\n",
    "    x=generate_batch(X_train,y_train),\n",
    "    validation_data=generate_batch(X_valid,y_valid),\n",
    "    batch_size=batch_size,\n",
    "    epochs=10,\n",
    "    steps_per_epoch=len(X_train)//batch_size,\n",
    "    validation_steps=len(X_valid)//batch_size\n",
    ")"
   ]
  },
  {
   "cell_type": "code",
   "execution_count": 25,
   "id": "b22f45c6",
   "metadata": {},
   "outputs": [],
   "source": [
    "encoder_model=tf.keras.models.Model(inputs=encoder_inputs,outputs=encoder_state)"
   ]
  },
  {
   "cell_type": "code",
   "execution_count": 27,
   "id": "795d7a84",
   "metadata": {},
   "outputs": [],
   "source": [
    "decoder_hidden_state=layers.Input(shape=(latent_dim,))\n",
    "decoder_cell_state=layers.Input(shape=(latent_dim,))\n",
    "decoder_init_state=[decoder_hidden_state,decoder_cell_state]\n",
    "decoder_embeddings=decoder_embedding_layer(decoder_inputs)\n",
    "decoder_output,decoder_output_hidden_state,decoder_output_cell_state=decoder_lstm(decoder_embeddings\n",
    "                                                                    ,initial_state=decoder_init_state)\n",
    "decoder_final_state=[decoder_output_hidden_state,decoder_output_cell_state]\n",
    "decoder_output=output_layer(decoder_output)\n",
    "decoder_probs=tf.nn.softmax(decoder_output)\n",
    "decoder_model=tf.keras.models.Model(inputs=[decoder_inputs]+decoder_init_state\n",
    "                                    ,outputs=[decoder_probs]+decoder_final_state)"
   ]
  },
  {
   "cell_type": "code",
   "execution_count": 28,
   "id": "2525279e",
   "metadata": {},
   "outputs": [
    {
     "name": "stdout",
     "output_type": "stream",
     "text": [
      "Model: \"model_1\"\n",
      "__________________________________________________________________________________________________\n",
      " Layer (type)                   Output Shape         Param #     Connected to                     \n",
      "==================================================================================================\n",
      " input_1 (InputLayer)           [(None, None)]       0           []                               \n",
      "                                                                                                  \n",
      " embedding (Embedding)          (None, None, 256)    702976      ['input_1[0][0]']                \n",
      "                                                                                                  \n",
      " bidirectional (Bidirectional)  [(None, 1024),       3149824     ['embedding[0][0]']              \n",
      "                                 (None, 512),                                                     \n",
      "                                 (None, 512),                                                     \n",
      "                                 (None, 512),                                                     \n",
      "                                 (None, 512)]                                                     \n",
      "                                                                                                  \n",
      " tf.__operators__.add (TFOpLamb  (None, 512)         0           ['bidirectional[0][1]',          \n",
      " da)                                                              'bidirectional[0][3]']          \n",
      "                                                                                                  \n",
      " tf.__operators__.add_1 (TFOpLa  (None, 512)         0           ['bidirectional[0][2]',          \n",
      " mbda)                                                            'bidirectional[0][4]']          \n",
      "                                                                                                  \n",
      "==================================================================================================\n",
      "Total params: 3,852,800\n",
      "Trainable params: 3,852,800\n",
      "Non-trainable params: 0\n",
      "__________________________________________________________________________________________________\n"
     ]
    }
   ],
   "source": [
    "encoder_model.summary()"
   ]
  },
  {
   "cell_type": "code",
   "execution_count": 29,
   "id": "b0f4aaba",
   "metadata": {},
   "outputs": [],
   "source": [
    "def generate_text(text):\n",
    "    translation=\"\"\n",
    "    states_value=encoder_model(text)\n",
    "    target=np.zeros((1,1))\n",
    "    target[0,0]=russian_lookup_table['<sos>']\n",
    "    stop_condition=False\n",
    "    while not stop_condition:\n",
    "        output_token,hidden_state,cell_state=decoder_model([target]+states_value)\n",
    "        char_index=np.argmax(output_token[0,-1,:])\n",
    "        char=russian_token_lookup_table[char_index]\n",
    "        if char=='<eos>' or len(translation)>=decoder_seq_length:\n",
    "            stop_condition=True\n",
    "            continue\n",
    "        translation+=' '+char\n",
    "        states_value=[hidden_state,cell_state]\n",
    "        target[0,0]=russian_lookup_table[char]\n",
    "    return translation"
   ]
  },
  {
   "cell_type": "code",
   "execution_count": 30,
   "id": "9bc7a143",
   "metadata": {},
   "outputs": [],
   "source": [
    "text_gen=generate_batch(X_valid,y_valid,batch_size=1)\n",
    "text_gen\n",
    "k=-1"
   ]
  },
  {
   "cell_type": "code",
   "execution_count": 31,
   "id": "7b770b6b",
   "metadata": {},
   "outputs": [
    {
     "name": "stdout",
     "output_type": "stream",
     "text": [
      "Input sentence: bring him to me\n",
      "Actual translation:  приводи его ко мне \n",
      "Model's translation:  я\n"
     ]
    }
   ],
   "source": [
    "k+=1\n",
    "[encoder_inputs,decoder_inputs],decoder_target=next(text_gen)\n",
    "print(f'Input sentence: {X_valid[k:k+1][0]}')\n",
    "print(f'Actual translation: {y_valid[k:k+1][0][5:-5]}')\n",
    "print(f\"Model's translation: {generate_text(encoder_inputs)}\" )"
   ]
  },
  {
   "cell_type": "code",
   "execution_count": null,
   "id": "6d0391b8",
   "metadata": {},
   "outputs": [],
   "source": []
  },
  {
   "cell_type": "code",
   "execution_count": null,
   "id": "efab1964",
   "metadata": {},
   "outputs": [],
   "source": []
  },
  {
   "cell_type": "code",
   "execution_count": null,
   "id": "f0ed4292",
   "metadata": {},
   "outputs": [],
   "source": []
  }
 ],
 "metadata": {
  "kernelspec": {
   "display_name": "Python 3 (ipykernel)",
   "language": "python",
   "name": "python3"
  },
  "language_info": {
   "codemirror_mode": {
    "name": "ipython",
    "version": 3
   },
   "file_extension": ".py",
   "mimetype": "text/x-python",
   "name": "python",
   "nbconvert_exporter": "python",
   "pygments_lexer": "ipython3",
   "version": "3.9.12"
  }
 },
 "nbformat": 4,
 "nbformat_minor": 5
}
